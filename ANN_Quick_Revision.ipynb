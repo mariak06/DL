{
  "nbformat": 4,
  "nbformat_minor": 0,
  "metadata": {
    "colab": {
      "provenance": []
    },
    "kernelspec": {
      "name": "python3",
      "display_name": "Python 3"
    },
    "language_info": {
      "name": "python"
    }
  },
  "cells": [
    {
      "cell_type": "markdown",
      "source": [
        "# **ANN →  Artificial Neural Network**"
      ],
      "metadata": {
        "id": "H9cQNBY5YGpI"
      }
    },
    {
      "cell_type": "markdown",
      "source": [
        "## **FNN →   Feedforward Neural Network**"
      ],
      "metadata": {
        "id": "UP5pDtD2YIGC"
      }
    },
    {
      "cell_type": "markdown",
      "source": [
        "- Each neuron take input- input will be multiplied by weight- calculate weighted sum of each layer -  add bias\n",
        "\n",
        "    **`∑ ( 𝑤𝑖 ⋅ 𝑥𝑖 ) + 𝑏`**\n",
        "\n",
        "- Apply activation function - get the output\n",
        "\n",
        "    **`𝑦 = Activation ( ∑ ( 𝑤 𝑖 ⋅ 𝑥 𝑖 ) + 𝑏 )`**\n",
        "\n",
        "- Result (y) will pass to the next layer until the output layer gives a final prediction.\n",
        "\n",
        "- Calculate loss: Compare prediction with actual value\n",
        "\n",
        "- Improve Accuracy using backpropagation: Errors are sent backward through the layers - Adjust weight to reduce error\n",
        "\n",
        "    **`𝑤 = 𝑤 − 𝛼 ⋅ ∂ Loss / ∂ 𝑤`**\n",
        "\n",
        "- Repeat Until Convergence - Train multiple **epochs** until the model **makes accurate predictions**.\n"
      ],
      "metadata": {
        "id": "qXGvIdpuYIIW"
      }
    },
    {
      "cell_type": "markdown",
      "source": [
        "## **RBFN → Radial Basis Function Network**"
      ],
      "metadata": {
        "id": "ocPoB-aEYIKf"
      }
    },
    {
      "cell_type": "markdown",
      "source": [
        "**`Center - each hidden neuron has a c point`**\n",
        "\n",
        "* Neuron calculate distance between Input and Center\n",
        " - input close to C = activation high\n",
        " - far = activation low\n",
        "  \n",
        "  **`Euclidean distance formula: 𝑑 = ∑ ( 𝑥𝑖 − 𝑐𝑖 )^2`**\n",
        "\n",
        "* Apply activation function (rbfs/gaussian)\n",
        "\n",
        "    **`𝜙 ( 𝑥 ) = 𝑒^ − ( ||𝑥 − 𝑐 ||^2 / (2.𝜎^2) )`**\n",
        "\n",
        "\n",
        "* Output from hidden layer will multiply to weight - summed to get final output\n",
        "\n",
        "    **`𝑦 = ∑ 𝑤𝑖 ⋅ 𝜙 ( 𝑥 )`**\n",
        "\n",
        "* Calculate loss\n",
        "* Improve Accuracy: Update centers - Update final layer weights\n",
        "* Repeat Until Convergence - Train multiple **epochs** until the model **makes accurate predictions**."
      ],
      "metadata": {
        "id": "Ql1I-o-9YIPO"
      }
    }
  ]
}